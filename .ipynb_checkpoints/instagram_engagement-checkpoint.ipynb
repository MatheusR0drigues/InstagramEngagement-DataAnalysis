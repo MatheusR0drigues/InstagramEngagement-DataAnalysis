{
 "cells": [
  {
   "cell_type": "markdown",
   "id": "357e9552",
   "metadata": {},
   "source": [
    "<strong> Importing libaries and reading Data Frame"
   ]
  },
  {
   "cell_type": "code",
   "execution_count": 1,
   "id": "a0d0b700",
   "metadata": {},
   "outputs": [],
   "source": [
    "import pandas as pd\n",
    "import numpy as np\n",
    "import plotly.graph_objects as go"
   ]
  },
  {
   "cell_type": "code",
   "execution_count": 2,
   "id": "6db552d3",
   "metadata": {},
   "outputs": [
    {
     "data": {
      "text/html": [
       "<div>\n",
       "<style scoped>\n",
       "    .dataframe tbody tr th:only-of-type {\n",
       "        vertical-align: middle;\n",
       "    }\n",
       "\n",
       "    .dataframe tbody tr th {\n",
       "        vertical-align: top;\n",
       "    }\n",
       "\n",
       "    .dataframe thead th {\n",
       "        text-align: right;\n",
       "    }\n",
       "</style>\n",
       "<table border=\"1\" class=\"dataframe\">\n",
       "  <thead>\n",
       "    <tr style=\"text-align: right;\">\n",
       "      <th></th>\n",
       "      <th>Country</th>\n",
       "      <th>Rank</th>\n",
       "      <th>Account</th>\n",
       "      <th>Title</th>\n",
       "      <th>Link</th>\n",
       "      <th>Category</th>\n",
       "      <th>Followers</th>\n",
       "      <th>Audience Country</th>\n",
       "      <th>Authentic engagement</th>\n",
       "      <th>Engagement avg</th>\n",
       "      <th>Scraped</th>\n",
       "    </tr>\n",
       "  </thead>\n",
       "  <tbody>\n",
       "    <tr>\n",
       "      <th>0</th>\n",
       "      <td>All</td>\n",
       "      <td>1</td>\n",
       "      <td>cristiano</td>\n",
       "      <td>Cristiano Ronaldo</td>\n",
       "      <td>https://www.instagram.com/cristiano/</td>\n",
       "      <td>Sports with a ball</td>\n",
       "      <td>400100000.0</td>\n",
       "      <td>India</td>\n",
       "      <td>7800000.0</td>\n",
       "      <td>9500000.0</td>\n",
       "      <td>2022-02-07 16:50:24.798803</td>\n",
       "    </tr>\n",
       "    <tr>\n",
       "      <th>1</th>\n",
       "      <td>All</td>\n",
       "      <td>2</td>\n",
       "      <td>kyliejenner</td>\n",
       "      <td>Kylie 🤍</td>\n",
       "      <td>https://www.instagram.com/kyliejenner/</td>\n",
       "      <td>Fashion|Modeling|Beauty</td>\n",
       "      <td>308800000.0</td>\n",
       "      <td>United States</td>\n",
       "      <td>6200000.0</td>\n",
       "      <td>10100000.0</td>\n",
       "      <td>2022-02-07 16:50:24.798803</td>\n",
       "    </tr>\n",
       "    <tr>\n",
       "      <th>2</th>\n",
       "      <td>All</td>\n",
       "      <td>3</td>\n",
       "      <td>leomessi</td>\n",
       "      <td>Leo Messi</td>\n",
       "      <td>https://www.instagram.com/leomessi/</td>\n",
       "      <td>Sports with a ball|Family</td>\n",
       "      <td>306300000.0</td>\n",
       "      <td>Argentina</td>\n",
       "      <td>4800000.0</td>\n",
       "      <td>6500000.0</td>\n",
       "      <td>2022-02-07 16:50:24.798803</td>\n",
       "    </tr>\n",
       "    <tr>\n",
       "      <th>3</th>\n",
       "      <td>All</td>\n",
       "      <td>4</td>\n",
       "      <td>kendalljenner</td>\n",
       "      <td>Kendall</td>\n",
       "      <td>https://www.instagram.com/kendalljenner/</td>\n",
       "      <td>Modeling|Fashion</td>\n",
       "      <td>217800000.0</td>\n",
       "      <td>United States</td>\n",
       "      <td>3400000.0</td>\n",
       "      <td>5400000.0</td>\n",
       "      <td>2022-02-07 16:50:24.798803</td>\n",
       "    </tr>\n",
       "    <tr>\n",
       "      <th>4</th>\n",
       "      <td>All</td>\n",
       "      <td>5</td>\n",
       "      <td>selenagomez</td>\n",
       "      <td>Selena Gomez</td>\n",
       "      <td>https://www.instagram.com/selenagomez/</td>\n",
       "      <td>Music|Lifestyle</td>\n",
       "      <td>295800000.0</td>\n",
       "      <td>United States</td>\n",
       "      <td>2700000.0</td>\n",
       "      <td>3600000.0</td>\n",
       "      <td>2022-02-07 16:50:24.798803</td>\n",
       "    </tr>\n",
       "  </tbody>\n",
       "</table>\n",
       "</div>"
      ],
      "text/plain": [
       "  Country  Rank        Account              Title  \\\n",
       "0     All     1      cristiano  Cristiano Ronaldo   \n",
       "1     All     2    kyliejenner            Kylie 🤍   \n",
       "2     All     3       leomessi          Leo Messi   \n",
       "3     All     4  kendalljenner            Kendall   \n",
       "4     All     5    selenagomez       Selena Gomez   \n",
       "\n",
       "                                       Link                   Category  \\\n",
       "0      https://www.instagram.com/cristiano/         Sports with a ball   \n",
       "1    https://www.instagram.com/kyliejenner/    Fashion|Modeling|Beauty   \n",
       "2       https://www.instagram.com/leomessi/  Sports with a ball|Family   \n",
       "3  https://www.instagram.com/kendalljenner/           Modeling|Fashion   \n",
       "4    https://www.instagram.com/selenagomez/            Music|Lifestyle   \n",
       "\n",
       "     Followers Audience Country  Authentic engagement  Engagement avg  \\\n",
       "0  400100000.0            India             7800000.0       9500000.0   \n",
       "1  308800000.0    United States             6200000.0      10100000.0   \n",
       "2  306300000.0        Argentina             4800000.0       6500000.0   \n",
       "3  217800000.0    United States             3400000.0       5400000.0   \n",
       "4  295800000.0    United States             2700000.0       3600000.0   \n",
       "\n",
       "                      Scraped  \n",
       "0  2022-02-07 16:50:24.798803  \n",
       "1  2022-02-07 16:50:24.798803  \n",
       "2  2022-02-07 16:50:24.798803  \n",
       "3  2022-02-07 16:50:24.798803  \n",
       "4  2022-02-07 16:50:24.798803  "
      ]
     },
     "execution_count": 2,
     "metadata": {},
     "output_type": "execute_result"
    }
   ],
   "source": [
    "df = pd.read_csv('data/instagram.csv')\n",
    "df.head()"
   ]
  },
  {
   "cell_type": "code",
   "execution_count": 3,
   "id": "6604a311",
   "metadata": {},
   "outputs": [
    {
     "data": {
      "text/plain": [
       "(1000, 11)"
      ]
     },
     "execution_count": 3,
     "metadata": {},
     "output_type": "execute_result"
    }
   ],
   "source": [
    "df.shape"
   ]
  },
  {
   "cell_type": "markdown",
   "id": "b8986f0e",
   "metadata": {},
   "source": [
    "<strong> Looking for nulls cells"
   ]
  },
  {
   "cell_type": "code",
   "execution_count": 4,
   "id": "d0ebe436",
   "metadata": {},
   "outputs": [
    {
     "data": {
      "text/plain": [
       "Country                  0\n",
       "Rank                     0\n",
       "Account                  0\n",
       "Title                   17\n",
       "Link                     0\n",
       "Category                91\n",
       "Followers                0\n",
       "Audience Country         7\n",
       "Authentic engagement     0\n",
       "Engagement avg           0\n",
       "Scraped                  0\n",
       "dtype: int64"
      ]
     },
     "execution_count": 4,
     "metadata": {},
     "output_type": "execute_result"
    }
   ],
   "source": [
    "df.isnull().sum()"
   ]
  },
  {
   "cell_type": "code",
   "execution_count": 5,
   "id": "b3ea0146",
   "metadata": {},
   "outputs": [
    {
     "data": {
      "text/plain": [
       "0      False\n",
       "1      False\n",
       "2      False\n",
       "3      False\n",
       "4      False\n",
       "       ...  \n",
       "995    False\n",
       "996    False\n",
       "997    False\n",
       "998    False\n",
       "999    False\n",
       "Name: Category, Length: 1000, dtype: bool"
      ]
     },
     "execution_count": 5,
     "metadata": {},
     "output_type": "execute_result"
    }
   ],
   "source": [
    "df.Category.isna()"
   ]
  },
  {
   "cell_type": "markdown",
   "id": "6ad784b4",
   "metadata": {},
   "source": [
    "<strong> Creating a list with the index of null categories"
   ]
  },
  {
   "cell_type": "code",
   "execution_count": 6,
   "id": "c51d8cda",
   "metadata": {},
   "outputs": [],
   "source": [
    "index_drop = []\n",
    "count = 0\n",
    "for category in df.Category.isna():\n",
    "    if category == True:\n",
    "        index_drop.append(count)\n",
    "    count += 1"
   ]
  },
  {
   "cell_type": "markdown",
   "id": "4e9fd67f",
   "metadata": {},
   "source": [
    "Droping rows with null categories"
   ]
  },
  {
   "cell_type": "code",
   "execution_count": 7,
   "id": "89a2942d",
   "metadata": {},
   "outputs": [],
   "source": [
    "df.drop(index_drop, inplace = True)"
   ]
  },
  {
   "cell_type": "code",
   "execution_count": 8,
   "id": "bd333c67",
   "metadata": {},
   "outputs": [
    {
     "data": {
      "text/plain": [
       "(909, 11)"
      ]
     },
     "execution_count": 8,
     "metadata": {},
     "output_type": "execute_result"
    }
   ],
   "source": [
    "df.shape"
   ]
  },
  {
   "cell_type": "code",
   "execution_count": 9,
   "id": "69e7813d",
   "metadata": {},
   "outputs": [],
   "source": [
    "df['Index'] = list(range(len(df)))"
   ]
  },
  {
   "cell_type": "code",
   "execution_count": 10,
   "id": "d1c83315",
   "metadata": {},
   "outputs": [
    {
     "data": {
      "text/html": [
       "<div>\n",
       "<style scoped>\n",
       "    .dataframe tbody tr th:only-of-type {\n",
       "        vertical-align: middle;\n",
       "    }\n",
       "\n",
       "    .dataframe tbody tr th {\n",
       "        vertical-align: top;\n",
       "    }\n",
       "\n",
       "    .dataframe thead th {\n",
       "        text-align: right;\n",
       "    }\n",
       "</style>\n",
       "<table border=\"1\" class=\"dataframe\">\n",
       "  <thead>\n",
       "    <tr style=\"text-align: right;\">\n",
       "      <th></th>\n",
       "      <th>Country</th>\n",
       "      <th>Rank</th>\n",
       "      <th>Account</th>\n",
       "      <th>Title</th>\n",
       "      <th>Link</th>\n",
       "      <th>Category</th>\n",
       "      <th>Followers</th>\n",
       "      <th>Audience Country</th>\n",
       "      <th>Authentic engagement</th>\n",
       "      <th>Engagement avg</th>\n",
       "      <th>Scraped</th>\n",
       "    </tr>\n",
       "    <tr>\n",
       "      <th>Index</th>\n",
       "      <th></th>\n",
       "      <th></th>\n",
       "      <th></th>\n",
       "      <th></th>\n",
       "      <th></th>\n",
       "      <th></th>\n",
       "      <th></th>\n",
       "      <th></th>\n",
       "      <th></th>\n",
       "      <th></th>\n",
       "      <th></th>\n",
       "    </tr>\n",
       "  </thead>\n",
       "  <tbody>\n",
       "    <tr>\n",
       "      <th>0</th>\n",
       "      <td>All</td>\n",
       "      <td>1</td>\n",
       "      <td>cristiano</td>\n",
       "      <td>Cristiano Ronaldo</td>\n",
       "      <td>https://www.instagram.com/cristiano/</td>\n",
       "      <td>Sports with a ball</td>\n",
       "      <td>400100000.0</td>\n",
       "      <td>India</td>\n",
       "      <td>7800000.0</td>\n",
       "      <td>9500000.0</td>\n",
       "      <td>2022-02-07 16:50:24.798803</td>\n",
       "    </tr>\n",
       "    <tr>\n",
       "      <th>1</th>\n",
       "      <td>All</td>\n",
       "      <td>2</td>\n",
       "      <td>kyliejenner</td>\n",
       "      <td>Kylie 🤍</td>\n",
       "      <td>https://www.instagram.com/kyliejenner/</td>\n",
       "      <td>Fashion|Modeling|Beauty</td>\n",
       "      <td>308800000.0</td>\n",
       "      <td>United States</td>\n",
       "      <td>6200000.0</td>\n",
       "      <td>10100000.0</td>\n",
       "      <td>2022-02-07 16:50:24.798803</td>\n",
       "    </tr>\n",
       "    <tr>\n",
       "      <th>2</th>\n",
       "      <td>All</td>\n",
       "      <td>3</td>\n",
       "      <td>leomessi</td>\n",
       "      <td>Leo Messi</td>\n",
       "      <td>https://www.instagram.com/leomessi/</td>\n",
       "      <td>Sports with a ball|Family</td>\n",
       "      <td>306300000.0</td>\n",
       "      <td>Argentina</td>\n",
       "      <td>4800000.0</td>\n",
       "      <td>6500000.0</td>\n",
       "      <td>2022-02-07 16:50:24.798803</td>\n",
       "    </tr>\n",
       "    <tr>\n",
       "      <th>3</th>\n",
       "      <td>All</td>\n",
       "      <td>4</td>\n",
       "      <td>kendalljenner</td>\n",
       "      <td>Kendall</td>\n",
       "      <td>https://www.instagram.com/kendalljenner/</td>\n",
       "      <td>Modeling|Fashion</td>\n",
       "      <td>217800000.0</td>\n",
       "      <td>United States</td>\n",
       "      <td>3400000.0</td>\n",
       "      <td>5400000.0</td>\n",
       "      <td>2022-02-07 16:50:24.798803</td>\n",
       "    </tr>\n",
       "    <tr>\n",
       "      <th>4</th>\n",
       "      <td>All</td>\n",
       "      <td>5</td>\n",
       "      <td>selenagomez</td>\n",
       "      <td>Selena Gomez</td>\n",
       "      <td>https://www.instagram.com/selenagomez/</td>\n",
       "      <td>Music|Lifestyle</td>\n",
       "      <td>295800000.0</td>\n",
       "      <td>United States</td>\n",
       "      <td>2700000.0</td>\n",
       "      <td>3600000.0</td>\n",
       "      <td>2022-02-07 16:50:24.798803</td>\n",
       "    </tr>\n",
       "  </tbody>\n",
       "</table>\n",
       "</div>"
      ],
      "text/plain": [
       "      Country  Rank        Account              Title  \\\n",
       "Index                                                   \n",
       "0         All     1      cristiano  Cristiano Ronaldo   \n",
       "1         All     2    kyliejenner            Kylie 🤍   \n",
       "2         All     3       leomessi          Leo Messi   \n",
       "3         All     4  kendalljenner            Kendall   \n",
       "4         All     5    selenagomez       Selena Gomez   \n",
       "\n",
       "                                           Link                   Category  \\\n",
       "Index                                                                        \n",
       "0          https://www.instagram.com/cristiano/         Sports with a ball   \n",
       "1        https://www.instagram.com/kyliejenner/    Fashion|Modeling|Beauty   \n",
       "2           https://www.instagram.com/leomessi/  Sports with a ball|Family   \n",
       "3      https://www.instagram.com/kendalljenner/           Modeling|Fashion   \n",
       "4        https://www.instagram.com/selenagomez/            Music|Lifestyle   \n",
       "\n",
       "         Followers Audience Country  Authentic engagement  Engagement avg  \\\n",
       "Index                                                                       \n",
       "0      400100000.0            India             7800000.0       9500000.0   \n",
       "1      308800000.0    United States             6200000.0      10100000.0   \n",
       "2      306300000.0        Argentina             4800000.0       6500000.0   \n",
       "3      217800000.0    United States             3400000.0       5400000.0   \n",
       "4      295800000.0    United States             2700000.0       3600000.0   \n",
       "\n",
       "                          Scraped  \n",
       "Index                              \n",
       "0      2022-02-07 16:50:24.798803  \n",
       "1      2022-02-07 16:50:24.798803  \n",
       "2      2022-02-07 16:50:24.798803  \n",
       "3      2022-02-07 16:50:24.798803  \n",
       "4      2022-02-07 16:50:24.798803  "
      ]
     },
     "execution_count": 10,
     "metadata": {},
     "output_type": "execute_result"
    }
   ],
   "source": [
    "df.set_index('Index', inplace = True)\n",
    "df.head()"
   ]
  },
  {
   "cell_type": "markdown",
   "id": "c26823c3",
   "metadata": {},
   "source": [
    "<strong> Adding unique categories into a list"
   ]
  },
  {
   "cell_type": "code",
   "execution_count": 11,
   "id": "3c7fdba9",
   "metadata": {},
   "outputs": [],
   "source": [
    "categories = []\n",
    "for category in df.Category:\n",
    "        for i in category.split('|'):\n",
    "            if i not in categories:\n",
    "                categories.append(i)"
   ]
  },
  {
   "cell_type": "markdown",
   "id": "35d17173",
   "metadata": {},
   "source": [
    "<strong> Looking for D|I|Y in df.Category and changing to DIY"
   ]
  },
  {
   "cell_type": "code",
   "execution_count": 12,
   "id": "58c850f9",
   "metadata": {},
   "outputs": [
    {
     "name": "stdout",
     "output_type": "stream",
     "text": [
      "Sports with a ball\n",
      "Fashion|Modeling|Beauty\n",
      "Sports with a ball|Family\n",
      "Modeling|Fashion\n",
      "Music|Lifestyle\n",
      "Cinema|Actors/actresses|Fashion\n",
      "Fashion|Beauty\n",
      "Music|Fashion\n",
      "Music\n",
      "Cinema|Actors/actresses\n",
      "Clothing|Outfits|Lifestyle\n",
      "Music|Beauty\n",
      "Cinema|Actors/actresses|Fitness|Gym\n",
      "Photography\n",
      "Lifestyle\n",
      "Beauty\n",
      "Music|Cinema|Actors/actresses\n",
      "Modeling|Lifestyle\n",
      "Finance|Economics|Business|Careers\n",
      "Lifestyle|Shows\n",
      "Lifestyle|Fashion|Clothing|Outfits\n",
      "Art|Artists\n",
      "Beauty|Art|Artists|Cinema|Actors/actresses\n",
      "Cinema|Actors/actresses|Modeling\n",
      "Humor|Fun|Happiness\n",
      "Lifestyle|Modeling\n",
      "Cinema|Actors/actresses|Modeling|Lifestyle\n",
      "Family|Sports with a ball\n",
      "Fitness|Gym|Lifestyle\n",
      "Science|Photography\n",
      "Modeling\n",
      "Cinema|Actors/actresses|Art|Artists\n",
      "Music|Modeling\n",
      "Literature|Journalism|Cinema|Actors/actresses|Fashion\n",
      "Fitness|Gym|Shopping|Retail|Clothing|Outfits\n",
      "Shows|Lifestyle\n",
      "Modeling|Family\n",
      "Cinema|Actors/actresses|Music|Shows\n",
      "Humor|Fun|Happiness|Clothing|Outfits\n",
      "Computers|Gadgets\n",
      "Shows|Humor|Fun|Happiness\n",
      "Sports with a ball|Lifestyle\n",
      "Cinema|Actors/actresses|Music\n",
      "Racing|Sports\n",
      "Music|Clothing|Outfits\n",
      "Fitness|Gym\n",
      "Cinema|Actors/actresses|Lifestyle\n",
      "Food|Cooking\n",
      "Nature  landscapes|Science|Photography\n",
      "Management|Marketing|Music\n",
      "Clothing|Outfits|Music\n",
      "Modeling|Lifestyle|Beauty\n",
      "Humor|Fun|Happiness|Cinema|Actors/actresses\n",
      "Beauty|Modeling|Cinema|Actors/actresses\n",
      "Computers|Gadgets|Machinery|Technologies\n",
      "Business|Careers\n",
      "Photography|Fashion\n",
      "Family|Music\n",
      "Music|Art|Artists|Cinema|Actors/actresses\n",
      "Music|Cinema|Actors/actresses|Modeling\n",
      "Family|Lifestyle\n",
      "Shows\n",
      "Beauty|Cinema|Actors/actresses\n",
      "Cinema|Actors/actresses|Family\n",
      "Music|Art|Artists\n",
      "Lifestyle|Cinema|Actors/actresses\n",
      "Art|Artists|Beauty\n",
      "Shows|Beauty|Family\n",
      "Shows|Adult content\n",
      "Shows|Cinema|Actors/actresses\n",
      "Cinema|Actors/actresses|Comics  sketches\n",
      "Finance|Economics|Business|Careers|Family\n",
      "Lifestyle|Art|Artists\n",
      "Cinema|Actors/actresses|Shows\n",
      "Lifestyle|Music\n",
      "Lifestyle|Cinema|Actors/actresses|Music\n",
      "Modeling|Cinema|Actors/actresses\n",
      "Cinema|Actors/actresses|Comics  sketches|Shows\n",
      "Beauty|Lifestyle\n",
      "Lifestyle|Beauty\n",
      "Modeling|Lifestyle|Fashion\n",
      "Luxury|Cars|Motorbikes\n",
      "Beauty|Cinema|Actors/actresses|Fashion\n",
      "Modeling|Fashion|Lifestyle\n",
      "Music|Kids|Toys\n",
      "Beauty|Family|Lifestyle\n",
      "Music|Family\n",
      "Fashion|Modeling\n",
      "Photography|Humor|Fun|Happiness\n",
      "Sports with a ball|Lifestyle|Kids|Toys\n",
      "Cinema|Actors/actresses|Humor|Fun|Happiness\n",
      "Adult content\n",
      "Cinema|Actors/actresses|Modeling|Clothing|Outfits\n",
      "Lifestyle|Sports with a ball\n",
      "Finance|Economics\n",
      "Fashion|Cinema|Actors/actresses\n",
      "Music|Shows\n",
      "Fashion\n",
      "Shows|Modeling\n",
      "Music|Fitness|Gym|Lifestyle\n",
      "Cinema|Actors/actresses|Lifestyle|Fashion\n",
      "Music|Cinema|Actors/actresses|Fashion\n",
      "Family\n",
      "Music|Modeling|Art|Artists\n",
      "Family|Lifestyle|Shows\n",
      "Shows|Beauty|Lifestyle\n",
      "Computers|Gadgets|Photography\n",
      "Machinery|Technologies|Computers|Gadgets\n",
      "Sports with a ball|Shows\n",
      "Beauty|Modeling|Adult content\n",
      "Photography|Travel\n",
      "Shows|Cinema|Actors/actresses|Lifestyle\n",
      "Art|Artists|Comics  sketches\n",
      "Lifestyle|Modeling|Fashion\n",
      "Art|Artists|Shows\n",
      "Fashion|Lifestyle|Beauty\n",
      "Animals\n",
      "Music|Beauty|Fashion\n",
      "Art|Artists|Cinema|Actors/actresses\n",
      "Fashion|Clothing|Outfits|Accessories|Jewellery\n",
      "Humor|Fun|Happiness|Lifestyle\n",
      "Art|Artists|Fashion|Modeling\n",
      "Cars|Motorbikes\n",
      "Lifestyle|Shows|Computers|Gadgets\n",
      "Lifestyle|Modeling|Cinema|Actors/actresses\n",
      "Nature  landscapes|Photography\n",
      "Literature|Journalism|Shows\n",
      "Music|Cinema|Actors/actresses|Lifestyle\n",
      "Shows|Family\n",
      "Literature|Journalism|Trainers|Coaches\n",
      "Cinema|Actors/actresses|Humor|Fun|Happiness|Modeling\n",
      "Family|Fashion|Modeling\n",
      "Lifestyle|Business|Careers\n",
      "Beauty|Cinema|Actors/actresses|Modeling\n",
      "Cars|Motorbikes|Luxury\n",
      "Art|Artists|Cinema|Actors/actresses|Shows\n",
      "Music|Shows|Cinema|Actors/actresses\n",
      "Science|Machinery|Technologies\n",
      "Modeling|Beauty|Lifestyle\n",
      "Business|Careers|Finance|Economics\n",
      "Lifestyle|Fashion\n",
      "Shows|Music\n",
      "Kids|Toys|Family\n",
      "Family|D|I|Y|Design\n",
      "Extreme|Sports|Outdoor activity|Racing|Sports\n",
      "Literature|Journalism|Fashion\n",
      "Nature  landscapes|Photography|Travel\n",
      "Sports with a ball|Literature|Journalism\n",
      "Literature|Journalism\n",
      "Cars|Motorbikes|Luxury|Racing|Sports\n",
      "Clothing|Outfits|Shopping|Retail\n",
      "Shows|Fitness|Gym\n",
      "Art|Artists|Fashion|Music\n",
      "Shows|Cinema|Actors/actresses|Modeling\n",
      "Lifestyle|Clothing|Outfits\n",
      "Clothing|Outfits\n",
      "Family|Finance|Economics\n",
      "Extreme|Sports|Outdoor activity\n",
      "Cinema|Actors/actresses|Photography\n",
      "Accessories|Jewellery|Clothing|Outfits|Fashion\n",
      "Photography|Lifestyle\n",
      "Modeling|Music\n",
      "Beauty|Art|Artists|Modeling\n",
      "Humor|Fun|Happiness|Shows|Art|Artists\n",
      "Lifestyle|Music|Modeling\n"
     ]
    }
   ],
   "source": [
    "delete = []\n",
    "for row in df.Category:\n",
    "    if row not in delete:\n",
    "        print(row)\n",
    "        delete.append(row)"
   ]
  },
  {
   "cell_type": "code",
   "execution_count": 13,
   "id": "958f37ac",
   "metadata": {},
   "outputs": [
    {
     "name": "stdout",
     "output_type": "stream",
     "text": [
      "O número de valores com D|I|Y é: 1\n",
      " Index(s): [783]\n"
     ]
    }
   ],
   "source": [
    "count = 0\n",
    "index_ = []\n",
    "index = 0\n",
    "for row in df.Category:\n",
    "    if 'D|I|Y' in row:\n",
    "        count += 1\n",
    "        index_.append(index)\n",
    "    index += 1\n",
    "print(f'O número de valores com D|I|Y é: {count}'\n",
    "      f'\\n Index(s): {index_}')"
   ]
  },
  {
   "cell_type": "code",
   "execution_count": 14,
   "id": "a8dbd4ab",
   "metadata": {},
   "outputs": [
    {
     "name": "stderr",
     "output_type": "stream",
     "text": [
      "C:\\Users\\Micro\\AppData\\Local\\Temp/ipykernel_21512/1051452030.py:1: SettingWithCopyWarning: \n",
      "A value is trying to be set on a copy of a slice from a DataFrame\n",
      "\n",
      "See the caveats in the documentation: https://pandas.pydata.org/pandas-docs/stable/user_guide/indexing.html#returning-a-view-versus-a-copy\n",
      "  df.Category[783] = df.Category[783].replace('Family|D|I|Y|Design', 'Family|DIY|Design')\n"
     ]
    }
   ],
   "source": [
    "df.Category[783] = df.Category[783].replace('Family|D|I|Y|Design', 'Family|DIY|Design')"
   ]
  },
  {
   "cell_type": "code",
   "execution_count": 15,
   "id": "dbd077ba",
   "metadata": {},
   "outputs": [
    {
     "data": {
      "text/plain": [
       "'Family|DIY|Design'"
      ]
     },
     "execution_count": 15,
     "metadata": {},
     "output_type": "execute_result"
    }
   ],
   "source": [
    "df.Category[783]"
   ]
  },
  {
   "cell_type": "markdown",
   "id": "09d0c851",
   "metadata": {},
   "source": [
    "<strong> Adding unique categories into a list after changes"
   ]
  },
  {
   "cell_type": "code",
   "execution_count": 16,
   "id": "6be8dccc",
   "metadata": {},
   "outputs": [],
   "source": [
    "categories = []\n",
    "for category in df.Category:\n",
    "        for i in category.split('|'):\n",
    "            if i not in categories:\n",
    "                categories.append(i)"
   ]
  },
  {
   "cell_type": "code",
   "execution_count": 17,
   "id": "313ce4da",
   "metadata": {
    "scrolled": true
   },
   "outputs": [
    {
     "data": {
      "text/plain": [
       "'DIY'"
      ]
     },
     "execution_count": 17,
     "metadata": {},
     "output_type": "execute_result"
    }
   ],
   "source": [
    "categories[-4]"
   ]
  },
  {
   "cell_type": "markdown",
   "id": "0548a8d5",
   "metadata": {},
   "source": [
    "<strong> Creating a v2 from my df with the categories as colunms"
   ]
  },
  {
   "cell_type": "code",
   "execution_count": 18,
   "id": "2467a530",
   "metadata": {},
   "outputs": [
    {
     "data": {
      "text/html": [
       "<div>\n",
       "<style scoped>\n",
       "    .dataframe tbody tr th:only-of-type {\n",
       "        vertical-align: middle;\n",
       "    }\n",
       "\n",
       "    .dataframe tbody tr th {\n",
       "        vertical-align: top;\n",
       "    }\n",
       "\n",
       "    .dataframe thead th {\n",
       "        text-align: right;\n",
       "    }\n",
       "</style>\n",
       "<table border=\"1\" class=\"dataframe\">\n",
       "  <thead>\n",
       "    <tr style=\"text-align: right;\">\n",
       "      <th></th>\n",
       "      <th>Sports with a ball</th>\n",
       "      <th>Fashion</th>\n",
       "      <th>Modeling</th>\n",
       "      <th>Beauty</th>\n",
       "      <th>Family</th>\n",
       "      <th>Music</th>\n",
       "      <th>Lifestyle</th>\n",
       "      <th>Cinema</th>\n",
       "      <th>Actors/actresses</th>\n",
       "      <th>Clothing</th>\n",
       "      <th>...</th>\n",
       "      <th>Travel</th>\n",
       "      <th>Animals</th>\n",
       "      <th>Accessories</th>\n",
       "      <th>Jewellery</th>\n",
       "      <th>Trainers</th>\n",
       "      <th>Coaches</th>\n",
       "      <th>DIY</th>\n",
       "      <th>Design</th>\n",
       "      <th>Extreme</th>\n",
       "      <th>Outdoor activity</th>\n",
       "    </tr>\n",
       "    <tr>\n",
       "      <th>Engagement</th>\n",
       "      <th></th>\n",
       "      <th></th>\n",
       "      <th></th>\n",
       "      <th></th>\n",
       "      <th></th>\n",
       "      <th></th>\n",
       "      <th></th>\n",
       "      <th></th>\n",
       "      <th></th>\n",
       "      <th></th>\n",
       "      <th></th>\n",
       "      <th></th>\n",
       "      <th></th>\n",
       "      <th></th>\n",
       "      <th></th>\n",
       "      <th></th>\n",
       "      <th></th>\n",
       "      <th></th>\n",
       "      <th></th>\n",
       "      <th></th>\n",
       "      <th></th>\n",
       "    </tr>\n",
       "  </thead>\n",
       "  <tbody>\n",
       "    <tr>\n",
       "      <th>Authentic engagement</th>\n",
       "      <td>NaN</td>\n",
       "      <td>NaN</td>\n",
       "      <td>NaN</td>\n",
       "      <td>NaN</td>\n",
       "      <td>NaN</td>\n",
       "      <td>NaN</td>\n",
       "      <td>NaN</td>\n",
       "      <td>NaN</td>\n",
       "      <td>NaN</td>\n",
       "      <td>NaN</td>\n",
       "      <td>...</td>\n",
       "      <td>NaN</td>\n",
       "      <td>NaN</td>\n",
       "      <td>NaN</td>\n",
       "      <td>NaN</td>\n",
       "      <td>NaN</td>\n",
       "      <td>NaN</td>\n",
       "      <td>NaN</td>\n",
       "      <td>NaN</td>\n",
       "      <td>NaN</td>\n",
       "      <td>NaN</td>\n",
       "    </tr>\n",
       "    <tr>\n",
       "      <th>Engagement avg</th>\n",
       "      <td>NaN</td>\n",
       "      <td>NaN</td>\n",
       "      <td>NaN</td>\n",
       "      <td>NaN</td>\n",
       "      <td>NaN</td>\n",
       "      <td>NaN</td>\n",
       "      <td>NaN</td>\n",
       "      <td>NaN</td>\n",
       "      <td>NaN</td>\n",
       "      <td>NaN</td>\n",
       "      <td>...</td>\n",
       "      <td>NaN</td>\n",
       "      <td>NaN</td>\n",
       "      <td>NaN</td>\n",
       "      <td>NaN</td>\n",
       "      <td>NaN</td>\n",
       "      <td>NaN</td>\n",
       "      <td>NaN</td>\n",
       "      <td>NaN</td>\n",
       "      <td>NaN</td>\n",
       "      <td>NaN</td>\n",
       "    </tr>\n",
       "  </tbody>\n",
       "</table>\n",
       "<p>2 rows × 57 columns</p>\n",
       "</div>"
      ],
      "text/plain": [
       "                     Sports with a ball Fashion Modeling Beauty Family Music  \\\n",
       "Engagement                                                                     \n",
       "Authentic engagement                NaN     NaN      NaN    NaN    NaN   NaN   \n",
       "Engagement avg                      NaN     NaN      NaN    NaN    NaN   NaN   \n",
       "\n",
       "                     Lifestyle Cinema Actors/actresses Clothing  ... Travel  \\\n",
       "Engagement                                                       ...          \n",
       "Authentic engagement       NaN    NaN              NaN      NaN  ...    NaN   \n",
       "Engagement avg             NaN    NaN              NaN      NaN  ...    NaN   \n",
       "\n",
       "                     Animals Accessories Jewellery Trainers Coaches  DIY  \\\n",
       "Engagement                                                                 \n",
       "Authentic engagement     NaN         NaN       NaN      NaN     NaN  NaN   \n",
       "Engagement avg           NaN         NaN       NaN      NaN     NaN  NaN   \n",
       "\n",
       "                     Design Extreme Outdoor activity  \n",
       "Engagement                                            \n",
       "Authentic engagement    NaN     NaN              NaN  \n",
       "Engagement avg          NaN     NaN              NaN  \n",
       "\n",
       "[2 rows x 57 columns]"
      ]
     },
     "execution_count": 18,
     "metadata": {},
     "output_type": "execute_result"
    }
   ],
   "source": [
    "df_v2 = pd.DataFrame(columns = categories)\n",
    "df_v2['Engagement'] = 'Authentic engagement', 'Engagement avg'\n",
    "df_v2.set_index('Engagement', inplace = True)\n",
    "df_v2.head()"
   ]
  },
  {
   "cell_type": "markdown",
   "id": "95711f43",
   "metadata": {},
   "source": [
    "Filling NaN datas with float 0.0"
   ]
  },
  {
   "cell_type": "code",
   "execution_count": 19,
   "id": "b28b0deb",
   "metadata": {},
   "outputs": [],
   "source": [
    "df_v2.fillna(0.0, inplace = True)\n",
    "df_v2 = df_v2.astype('float64')"
   ]
  },
  {
   "cell_type": "markdown",
   "id": "bcc51497",
   "metadata": {},
   "source": [
    "<strong> Summing Authentic engagement and Engagement avg from df into df_v2 columns"
   ]
  },
  {
   "cell_type": "code",
   "execution_count": 20,
   "id": "594a5ddd",
   "metadata": {},
   "outputs": [],
   "source": [
    "count = [0]\n",
    "for category in df.Category:\n",
    "    for column in df_v2:\n",
    "        if column in category.split('|'):\n",
    "            df_v2[column][0] += df['Authentic engagement'][count]\n",
    "            df_v2[column][1] += df['Engagement avg'][count]"
   ]
  },
  {
   "cell_type": "markdown",
   "id": "e3221ca9",
   "metadata": {},
   "source": [
    "<strong> creating a v3 from df_v2 but with categories as index"
   ]
  },
  {
   "cell_type": "code",
   "execution_count": 21,
   "id": "d994e615",
   "metadata": {},
   "outputs": [
    {
     "data": {
      "text/html": [
       "<div>\n",
       "<style scoped>\n",
       "    .dataframe tbody tr th:only-of-type {\n",
       "        vertical-align: middle;\n",
       "    }\n",
       "\n",
       "    .dataframe tbody tr th {\n",
       "        vertical-align: top;\n",
       "    }\n",
       "\n",
       "    .dataframe thead th {\n",
       "        text-align: right;\n",
       "    }\n",
       "</style>\n",
       "<table border=\"1\" class=\"dataframe\">\n",
       "  <thead>\n",
       "    <tr style=\"text-align: right;\">\n",
       "      <th>index</th>\n",
       "      <th>Category</th>\n",
       "      <th>Authentic engagement</th>\n",
       "      <th>Engagement avg</th>\n",
       "    </tr>\n",
       "  </thead>\n",
       "  <tbody>\n",
       "    <tr>\n",
       "      <th>7</th>\n",
       "      <td>Cinema</td>\n",
       "      <td>2.137200e+09</td>\n",
       "      <td>2.603000e+09</td>\n",
       "    </tr>\n",
       "    <tr>\n",
       "      <th>8</th>\n",
       "      <td>Actors/actresses</td>\n",
       "      <td>2.137200e+09</td>\n",
       "      <td>2.603000e+09</td>\n",
       "    </tr>\n",
       "    <tr>\n",
       "      <th>5</th>\n",
       "      <td>Music</td>\n",
       "      <td>2.035800e+09</td>\n",
       "      <td>2.479500e+09</td>\n",
       "    </tr>\n",
       "    <tr>\n",
       "      <th>6</th>\n",
       "      <td>Lifestyle</td>\n",
       "      <td>1.232400e+09</td>\n",
       "      <td>1.501000e+09</td>\n",
       "    </tr>\n",
       "    <tr>\n",
       "      <th>0</th>\n",
       "      <td>Sports with a ball</td>\n",
       "      <td>9.126000e+08</td>\n",
       "      <td>1.111500e+09</td>\n",
       "    </tr>\n",
       "  </tbody>\n",
       "</table>\n",
       "</div>"
      ],
      "text/plain": [
       "index            Category  Authentic engagement  Engagement avg\n",
       "7                  Cinema          2.137200e+09    2.603000e+09\n",
       "8        Actors/actresses          2.137200e+09    2.603000e+09\n",
       "5                   Music          2.035800e+09    2.479500e+09\n",
       "6               Lifestyle          1.232400e+09    1.501000e+09\n",
       "0      Sports with a ball          9.126000e+08    1.111500e+09"
      ]
     },
     "execution_count": 21,
     "metadata": {},
     "output_type": "execute_result"
    }
   ],
   "source": [
    "df_v3 = df_v2.T\n",
    "df_v3.rename_axis('index', axis='columns', inplace = True)\n",
    "df_v3.reset_index(level=0, inplace = True)\n",
    "df_v3.rename(columns = {'index':'Category'}, inplace = True)\n",
    "df_v3.sort_values(by=['Authentic engagement'], inplace = True, ascending = False)\n",
    "df_v3.head()"
   ]
  },
  {
   "cell_type": "markdown",
   "id": "792e836a",
   "metadata": {},
   "source": [
    "<strong> Looking unique categories to decrease number of variables"
   ]
  },
  {
   "cell_type": "code",
   "execution_count": 22,
   "id": "bac8767f",
   "metadata": {},
   "outputs": [
    {
     "data": {
      "text/plain": [
       "7                 Cinema\n",
       "8       Actors/actresses\n",
       "5                  Music\n",
       "6              Lifestyle\n",
       "0     Sports with a ball\n",
       "2               Modeling\n",
       "18                 Shows\n",
       "3                 Beauty\n",
       "1                Fashion\n",
       "23             Happiness\n",
       "21                 Humor\n",
       "20               Artists\n",
       "19                   Art\n",
       "22                   Fun\n",
       "4                 Family\n",
       "12                   Gym\n",
       "11               Fitness\n",
       "10               Outfits\n",
       "9               Clothing\n",
       "13           Photography\n",
       "29             Computers\n",
       "30               Gadgets\n",
       "40         Adult content\n",
       "32                Sports\n",
       "16              Business\n",
       "17               Careers\n",
       "31                Racing\n",
       "43                  Cars\n",
       "44            Motorbikes\n",
       "26            Journalism\n",
       "25            Literature\n",
       "15             Economics\n",
       "38             Machinery\n",
       "39          Technologies\n",
       "14               Finance\n",
       "42                Luxury\n",
       "35    Nature  landscapes\n",
       "46                  Toys\n",
       "24               Science\n",
       "41      Comics  sketches\n",
       "45                  Kids\n",
       "55               Extreme\n",
       "50             Jewellery\n",
       "49           Accessories\n",
       "47                Travel\n",
       "28                Retail\n",
       "37             Marketing\n",
       "36            Management\n",
       "34               Cooking\n",
       "33                  Food\n",
       "27              Shopping\n",
       "56      Outdoor activity\n",
       "48               Animals\n",
       "51              Trainers\n",
       "52               Coaches\n",
       "53                   DIY\n",
       "54                Design\n",
       "Name: Category, dtype: object"
      ]
     },
     "execution_count": 22,
     "metadata": {},
     "output_type": "execute_result"
    }
   ],
   "source": [
    "df_v3.Category"
   ]
  },
  {
   "cell_type": "code",
   "execution_count": 23,
   "id": "618e6d7c",
   "metadata": {},
   "outputs": [],
   "source": [
    "def rename_df_v3(index_old_name1, index_old_name2):\n",
    "    print(f'Renaming {df_v3.Category[index_old_name1]} to [{df_v3.Category[index_old_name1]} & {df_v3.Category[index_old_name2]}] and deleting category {df_v3.Category[index_old_name2]}')\n",
    "    df_v3.Category[index_old_name1] = str(df_v3.Category[index_old_name1])+' & '+str(df_v3.Category[index_old_name2])\n",
    "    df_v3.drop([index_old_name2], inplace = True)\n",
    "    return\n",
    "\n",
    "def loop_rename_df_v3(list_indexes): # For this loop if you want to join together 2 categories input in list the high value\n",
    "    while list_indexes != []:        # example: if you want join togetehr 43 and 44 insert into the list only 44\n",
    "        rename_df_v3(list_indexes[-1], (list_indexes[-1] - 1))\n",
    "        list_indexes.pop()\n",
    "    return"
   ]
  },
  {
   "cell_type": "code",
   "execution_count": 24,
   "id": "46d9d6d0",
   "metadata": {},
   "outputs": [
    {
     "name": "stdout",
     "output_type": "stream",
     "text": [
      "Renaming Toys to [Toys & Kids] and deleting category Kids\n",
      "Renaming Economics to [Economics & Finance] and deleting category Finance\n",
      "Renaming Technologies to [Technologies & Machinery] and deleting category Machinery\n",
      "Renaming Marketing to [Marketing & Management] and deleting category Management\n",
      "Renaming Coaches to [Coaches & Trainers] and deleting category Trainers\n",
      "Renaming Design to [Design & DIY] and deleting category DIY\n",
      "Renaming Journalism to [Journalism & Literature] and deleting category Literature\n",
      "Renaming Careers to [Careers & Business] and deleting category Business\n",
      "Renaming Motorbikes to [Motorbikes & Cars] and deleting category Cars\n",
      "Renaming Gym to [Gym & Fitness] and deleting category Fitness\n",
      "Renaming Fun to [Fun & Humor] and deleting category Humor\n",
      "Renaming Happiness to [Happiness & Fun & Humor] and deleting category Fun & Humor\n",
      "Renaming Outfits to [Outfits & Clothing] and deleting category Clothing\n",
      "Renaming Artists to [Artists & Art] and deleting category Art\n",
      "Renaming Actors/actresses to [Actors/actresses & Cinema] and deleting category Cinema\n"
     ]
    },
    {
     "name": "stderr",
     "output_type": "stream",
     "text": [
      "C:\\Users\\Micro\\AppData\\Local\\Temp/ipykernel_21512/2480044299.py:3: SettingWithCopyWarning: \n",
      "A value is trying to be set on a copy of a slice from a DataFrame\n",
      "\n",
      "See the caveats in the documentation: https://pandas.pydata.org/pandas-docs/stable/user_guide/indexing.html#returning-a-view-versus-a-copy\n",
      "  df_v3.Category[index_old_name1] = str(df_v3.Category[index_old_name1])+' & '+str(df_v3.Category[index_old_name2])\n"
     ]
    }
   ],
   "source": [
    "indexes = [8, 20, 10, 23, 22, 12, 44, 17, 26, 54, 52, 37, 39, 15, 46]\n",
    "# cinema actors; artist art; clothing outfits; cooking food; humor fun happiness; fitness gym; journalism literature\n",
    "# DIY design; trainers coaches; management marketing; technologies and machinery, economics and finances; kids and toys\n",
    "loop_rename_df_v3(indexes)"
   ]
  },
  {
   "cell_type": "markdown",
   "id": "a197eccd",
   "metadata": {},
   "source": [
    "<strong> Creating a v4 from the DataFrame to decrease number of variables"
   ]
  },
  {
   "cell_type": "code",
   "execution_count": 25,
   "id": "38a5c6ca",
   "metadata": {},
   "outputs": [],
   "source": [
    "df_v4 = df_v3.copy()\n",
    "df_v4.loc[len(df.index)] = ['Others', 0.0, 0.0]\n",
    "df_v4.reset_index(level=0, inplace = True, drop = True)"
   ]
  },
  {
   "cell_type": "code",
   "execution_count": 26,
   "id": "2e301994",
   "metadata": {},
   "outputs": [
    {
     "data": {
      "text/html": [
       "<div>\n",
       "<style scoped>\n",
       "    .dataframe tbody tr th:only-of-type {\n",
       "        vertical-align: middle;\n",
       "    }\n",
       "\n",
       "    .dataframe tbody tr th {\n",
       "        vertical-align: top;\n",
       "    }\n",
       "\n",
       "    .dataframe thead th {\n",
       "        text-align: right;\n",
       "    }\n",
       "</style>\n",
       "<table border=\"1\" class=\"dataframe\">\n",
       "  <thead>\n",
       "    <tr style=\"text-align: right;\">\n",
       "      <th>index</th>\n",
       "      <th>Authentic engagement</th>\n",
       "      <th>Engagement avg</th>\n",
       "    </tr>\n",
       "  </thead>\n",
       "  <tbody>\n",
       "    <tr>\n",
       "      <th>count</th>\n",
       "      <td>4.300000e+01</td>\n",
       "      <td>4.300000e+01</td>\n",
       "    </tr>\n",
       "    <tr>\n",
       "      <th>mean</th>\n",
       "      <td>2.340000e+08</td>\n",
       "      <td>2.850000e+08</td>\n",
       "    </tr>\n",
       "    <tr>\n",
       "      <th>std</th>\n",
       "      <td>4.838456e+08</td>\n",
       "      <td>5.892991e+08</td>\n",
       "    </tr>\n",
       "    <tr>\n",
       "      <th>min</th>\n",
       "      <td>0.000000e+00</td>\n",
       "      <td>0.000000e+00</td>\n",
       "    </tr>\n",
       "    <tr>\n",
       "      <th>25%</th>\n",
       "      <td>1.560000e+07</td>\n",
       "      <td>1.900000e+07</td>\n",
       "    </tr>\n",
       "    <tr>\n",
       "      <th>50%</th>\n",
       "      <td>5.460000e+07</td>\n",
       "      <td>6.650000e+07</td>\n",
       "    </tr>\n",
       "    <tr>\n",
       "      <th>75%</th>\n",
       "      <td>1.560000e+08</td>\n",
       "      <td>1.900000e+08</td>\n",
       "    </tr>\n",
       "    <tr>\n",
       "      <th>max</th>\n",
       "      <td>2.137200e+09</td>\n",
       "      <td>2.603000e+09</td>\n",
       "    </tr>\n",
       "  </tbody>\n",
       "</table>\n",
       "</div>"
      ],
      "text/plain": [
       "index  Authentic engagement  Engagement avg\n",
       "count          4.300000e+01    4.300000e+01\n",
       "mean           2.340000e+08    2.850000e+08\n",
       "std            4.838456e+08    5.892991e+08\n",
       "min            0.000000e+00    0.000000e+00\n",
       "25%            1.560000e+07    1.900000e+07\n",
       "50%            5.460000e+07    6.650000e+07\n",
       "75%            1.560000e+08    1.900000e+08\n",
       "max            2.137200e+09    2.603000e+09"
      ]
     },
     "execution_count": 26,
     "metadata": {},
     "output_type": "execute_result"
    }
   ],
   "source": [
    "df_v4.describe()"
   ]
  },
  {
   "cell_type": "code",
   "execution_count": 27,
   "id": "5a2a336e",
   "metadata": {},
   "outputs": [
    {
     "data": {
      "text/plain": [
       "Index\n",
       "10                     Sports with a ball\n",
       "11                                  Music\n",
       "12                                  Music\n",
       "13                Cinema|Actors/actresses\n",
       "14                     Sports with a ball\n",
       "15             Clothing|Outfits|Lifestyle\n",
       "16                           Music|Beauty\n",
       "17                                  Music\n",
       "18                                  Music\n",
       "19                           Music|Beauty\n",
       "20                                  Music\n",
       "21                          Music|Fashion\n",
       "22    Cinema|Actors/actresses|Fitness|Gym\n",
       "23                            Photography\n",
       "24                                  Music\n",
       "25                                  Music\n",
       "26                              Lifestyle\n",
       "27                                  Music\n",
       "28                                 Beauty\n",
       "29                                  Music\n",
       "30                          Music|Fashion\n",
       "31                     Sports with a ball\n",
       "32          Music|Cinema|Actors/actresses\n",
       "33                     Sports with a ball\n",
       "34                                  Music\n",
       "35                     Modeling|Lifestyle\n",
       "36                Cinema|Actors/actresses\n",
       "37     Finance|Economics|Business|Careers\n",
       "38                        Music|Lifestyle\n",
       "39                                  Music\n",
       "40                        Lifestyle|Shows\n",
       "41                Cinema|Actors/actresses\n",
       "Name: Category, dtype: object"
      ]
     },
     "execution_count": 27,
     "metadata": {},
     "output_type": "execute_result"
    }
   ],
   "source": [
    "df.Category[10:42]"
   ]
  },
  {
   "cell_type": "code",
   "execution_count": 28,
   "id": "be864ff7",
   "metadata": {},
   "outputs": [],
   "source": [
    "# count = 0\n",
    "# variable_authentic =  df_v4.iloc[42][1]\n",
    "# variable_avg = df_v4.iloc[42][2]\n",
    "# for authentic, avg in zip(df_v4['Authentic engagement'], df_v4['Engagement avg']):\n",
    "#     if avg <= quantile_avg:\n",
    "#         df_v4['Authentic engagement'] = df_v4['Authentic engagement'].replace(variable_authentic, authentic)\n",
    "#         variable_authentic += authentic\n",
    "#         df_v4['Engagement avg'] = df_v4['Engagement avg'].replace(variable_avg, avg)\n",
    "#         variable_avg += avg\n",
    "#     count+=1"
   ]
  },
  {
   "cell_type": "code",
   "execution_count": 29,
   "id": "03f02b50",
   "metadata": {},
   "outputs": [
    {
     "data": {
      "text/plain": [
       "66500000.0"
      ]
     },
     "execution_count": 29,
     "metadata": {},
     "output_type": "execute_result"
    }
   ],
   "source": [
    "quantile_authentic = df_v4['Authentic engagement'].quantile()\n",
    "quantile_avg =  df_v4['Engagement avg'].quantile()\n",
    "quantile_avg"
   ]
  },
  {
   "cell_type": "code",
   "execution_count": 30,
   "id": "14cc3a77",
   "metadata": {},
   "outputs": [
    {
     "name": "stdout",
     "output_type": "stream",
     "text": [
      "Economics & Finance\n"
     ]
    }
   ],
   "source": [
    "count = 0 # looking for first value before 50%\n",
    "for avg in df_v4['Engagement avg']:\n",
    "    if avg < quantile_avg:\n",
    "        print(df_v4['Category'][count])\n",
    "        break\n",
    "    count+=1"
   ]
  },
  {
   "cell_type": "code",
   "execution_count": 31,
   "id": "48483ca9",
   "metadata": {},
   "outputs": [],
   "source": [
    "sum_engagement = df_v4['Authentic engagement'][22:].sum()\n",
    "sum_avg = df_v4['Engagement avg'][22:].sum()"
   ]
  },
  {
   "cell_type": "code",
   "execution_count": 32,
   "id": "2c299e5c",
   "metadata": {},
   "outputs": [],
   "source": [
    "df_v4['Authentic engagement'] = df_v4['Authentic engagement'].replace(df_v4.iloc[42][1], sum_engagement)\n",
    "df_v4['Engagement avg'] = df_v4['Engagement avg'].replace(df_v4.iloc[42][2], sum_avg)\n",
    "columns = range(42)[22:42] # Columns I want to delet\n",
    "df_v4.drop(columns, inplace = True)\n",
    "df_v4.reset_index(level=0, inplace = True, drop = True)"
   ]
  },
  {
   "cell_type": "code",
   "execution_count": 33,
   "id": "4509aaf8",
   "metadata": {},
   "outputs": [
    {
     "data": {
      "text/html": [
       "<div>\n",
       "<style scoped>\n",
       "    .dataframe tbody tr th:only-of-type {\n",
       "        vertical-align: middle;\n",
       "    }\n",
       "\n",
       "    .dataframe tbody tr th {\n",
       "        vertical-align: top;\n",
       "    }\n",
       "\n",
       "    .dataframe thead th {\n",
       "        text-align: right;\n",
       "    }\n",
       "</style>\n",
       "<table border=\"1\" class=\"dataframe\">\n",
       "  <thead>\n",
       "    <tr style=\"text-align: right;\">\n",
       "      <th>index</th>\n",
       "      <th>Category</th>\n",
       "      <th>Authentic engagement</th>\n",
       "      <th>Engagement avg</th>\n",
       "    </tr>\n",
       "  </thead>\n",
       "  <tbody>\n",
       "    <tr>\n",
       "      <th>0</th>\n",
       "      <td>Actors/actresses &amp; Cinema</td>\n",
       "      <td>2.137200e+09</td>\n",
       "      <td>2.603000e+09</td>\n",
       "    </tr>\n",
       "    <tr>\n",
       "      <th>1</th>\n",
       "      <td>Music</td>\n",
       "      <td>2.035800e+09</td>\n",
       "      <td>2.479500e+09</td>\n",
       "    </tr>\n",
       "    <tr>\n",
       "      <th>2</th>\n",
       "      <td>Lifestyle</td>\n",
       "      <td>1.232400e+09</td>\n",
       "      <td>1.501000e+09</td>\n",
       "    </tr>\n",
       "    <tr>\n",
       "      <th>3</th>\n",
       "      <td>Sports with a ball</td>\n",
       "      <td>9.126000e+08</td>\n",
       "      <td>1.111500e+09</td>\n",
       "    </tr>\n",
       "    <tr>\n",
       "      <th>4</th>\n",
       "      <td>Modeling</td>\n",
       "      <td>6.240000e+08</td>\n",
       "      <td>7.600000e+08</td>\n",
       "    </tr>\n",
       "    <tr>\n",
       "      <th>5</th>\n",
       "      <td>Shows</td>\n",
       "      <td>5.304000e+08</td>\n",
       "      <td>6.460000e+08</td>\n",
       "    </tr>\n",
       "    <tr>\n",
       "      <th>6</th>\n",
       "      <td>Beauty</td>\n",
       "      <td>3.276000e+08</td>\n",
       "      <td>3.990000e+08</td>\n",
       "    </tr>\n",
       "    <tr>\n",
       "      <th>7</th>\n",
       "      <td>Fashion</td>\n",
       "      <td>2.964000e+08</td>\n",
       "      <td>3.610000e+08</td>\n",
       "    </tr>\n",
       "    <tr>\n",
       "      <th>8</th>\n",
       "      <td>Happiness &amp; Fun &amp; Humor</td>\n",
       "      <td>2.652000e+08</td>\n",
       "      <td>3.230000e+08</td>\n",
       "    </tr>\n",
       "    <tr>\n",
       "      <th>9</th>\n",
       "      <td>Artists &amp; Art</td>\n",
       "      <td>2.652000e+08</td>\n",
       "      <td>3.230000e+08</td>\n",
       "    </tr>\n",
       "    <tr>\n",
       "      <th>10</th>\n",
       "      <td>Family</td>\n",
       "      <td>1.950000e+08</td>\n",
       "      <td>2.375000e+08</td>\n",
       "    </tr>\n",
       "    <tr>\n",
       "      <th>11</th>\n",
       "      <td>Gym &amp; Fitness</td>\n",
       "      <td>1.170000e+08</td>\n",
       "      <td>1.425000e+08</td>\n",
       "    </tr>\n",
       "    <tr>\n",
       "      <th>12</th>\n",
       "      <td>Outfits &amp; Clothing</td>\n",
       "      <td>1.014000e+08</td>\n",
       "      <td>1.235000e+08</td>\n",
       "    </tr>\n",
       "    <tr>\n",
       "      <th>13</th>\n",
       "      <td>Photography</td>\n",
       "      <td>9.360000e+07</td>\n",
       "      <td>1.140000e+08</td>\n",
       "    </tr>\n",
       "    <tr>\n",
       "      <th>14</th>\n",
       "      <td>Computers</td>\n",
       "      <td>7.800000e+07</td>\n",
       "      <td>9.500000e+07</td>\n",
       "    </tr>\n",
       "    <tr>\n",
       "      <th>15</th>\n",
       "      <td>Gadgets</td>\n",
       "      <td>7.800000e+07</td>\n",
       "      <td>9.500000e+07</td>\n",
       "    </tr>\n",
       "    <tr>\n",
       "      <th>16</th>\n",
       "      <td>Adult content</td>\n",
       "      <td>7.020000e+07</td>\n",
       "      <td>8.550000e+07</td>\n",
       "    </tr>\n",
       "    <tr>\n",
       "      <th>17</th>\n",
       "      <td>Sports</td>\n",
       "      <td>7.020000e+07</td>\n",
       "      <td>8.550000e+07</td>\n",
       "    </tr>\n",
       "    <tr>\n",
       "      <th>18</th>\n",
       "      <td>Careers &amp; Business</td>\n",
       "      <td>6.240000e+07</td>\n",
       "      <td>7.600000e+07</td>\n",
       "    </tr>\n",
       "    <tr>\n",
       "      <th>19</th>\n",
       "      <td>Racing</td>\n",
       "      <td>6.240000e+07</td>\n",
       "      <td>7.600000e+07</td>\n",
       "    </tr>\n",
       "    <tr>\n",
       "      <th>20</th>\n",
       "      <td>Motorbikes &amp; Cars</td>\n",
       "      <td>5.460000e+07</td>\n",
       "      <td>6.650000e+07</td>\n",
       "    </tr>\n",
       "    <tr>\n",
       "      <th>21</th>\n",
       "      <td>Journalism &amp; Literature</td>\n",
       "      <td>5.460000e+07</td>\n",
       "      <td>6.650000e+07</td>\n",
       "    </tr>\n",
       "    <tr>\n",
       "      <th>22</th>\n",
       "      <td>Others</td>\n",
       "      <td>3.978000e+08</td>\n",
       "      <td>4.845000e+08</td>\n",
       "    </tr>\n",
       "  </tbody>\n",
       "</table>\n",
       "</div>"
      ],
      "text/plain": [
       "index                   Category  Authentic engagement  Engagement avg\n",
       "0      Actors/actresses & Cinema          2.137200e+09    2.603000e+09\n",
       "1                          Music          2.035800e+09    2.479500e+09\n",
       "2                      Lifestyle          1.232400e+09    1.501000e+09\n",
       "3             Sports with a ball          9.126000e+08    1.111500e+09\n",
       "4                       Modeling          6.240000e+08    7.600000e+08\n",
       "5                          Shows          5.304000e+08    6.460000e+08\n",
       "6                         Beauty          3.276000e+08    3.990000e+08\n",
       "7                        Fashion          2.964000e+08    3.610000e+08\n",
       "8        Happiness & Fun & Humor          2.652000e+08    3.230000e+08\n",
       "9                  Artists & Art          2.652000e+08    3.230000e+08\n",
       "10                        Family          1.950000e+08    2.375000e+08\n",
       "11                 Gym & Fitness          1.170000e+08    1.425000e+08\n",
       "12            Outfits & Clothing          1.014000e+08    1.235000e+08\n",
       "13                   Photography          9.360000e+07    1.140000e+08\n",
       "14                     Computers          7.800000e+07    9.500000e+07\n",
       "15                       Gadgets          7.800000e+07    9.500000e+07\n",
       "16                 Adult content          7.020000e+07    8.550000e+07\n",
       "17                        Sports          7.020000e+07    8.550000e+07\n",
       "18            Careers & Business          6.240000e+07    7.600000e+07\n",
       "19                        Racing          6.240000e+07    7.600000e+07\n",
       "20             Motorbikes & Cars          5.460000e+07    6.650000e+07\n",
       "21       Journalism & Literature          5.460000e+07    6.650000e+07\n",
       "22                        Others          3.978000e+08    4.845000e+08"
      ]
     },
     "execution_count": 33,
     "metadata": {},
     "output_type": "execute_result"
    }
   ],
   "source": [
    "df_v4"
   ]
  },
  {
   "cell_type": "markdown",
   "id": "edeacd87",
   "metadata": {},
   "source": [
    "# Plotting Graphs"
   ]
  },
  {
   "cell_type": "code",
   "execution_count": 34,
   "id": "8ea34bb0",
   "metadata": {},
   "outputs": [],
   "source": [
    "import seaborn as sns\n",
    "from matplotlib import pyplot as plt"
   ]
  },
  {
   "cell_type": "code",
   "execution_count": 35,
   "id": "e224c234",
   "metadata": {},
   "outputs": [],
   "source": [
    "def colors_from_values(values, palette_name):\n",
    "    # normalize the values to range [0, 1]\n",
    "    normalized = (values - min(values)) / (max(values) - min(values))\n",
    "    # convert to indices\n",
    "    indices = np.round(normalized * (len(values) - 1)).astype(np.int32)\n",
    "    # use the indices to get the colors\n",
    "    palette = sns.color_palette(palette_name, len(values))\n",
    "    return np.array(palette).take(indices, axis=0)"
   ]
  },
  {
   "cell_type": "code",
   "execution_count": 45,
   "id": "09a8bef6",
   "metadata": {},
   "outputs": [
    {
     "data": {
      "text/plain": [
       "<AxesSubplot:xlabel='Authentic engagement', ylabel='Category'>"
      ]
     },
     "execution_count": 45,
     "metadata": {},
     "output_type": "execute_result"
    },
    {
     "data": {
      "image/png": "[encoded data removed]",
      "text/plain": [
       "<Figure size 720x1080 with 1 Axes>"
      ]
     },
     "metadata": {},
     "output_type": "display_data"
    }
   ],
   "source": [
    "sns.set_style('whitegrid')\n",
    "\n",
    "plt.figure(figsize = (10,15))\n",
    "y = np.arange(len(df_v4))\n",
    "sns.barplot(x = 'Authentic engagement', y = 'Category', data = df_v4, palette = colors_from_values(y,'dark:salmon'))"
   ]
  },
  {
   "cell_type": "code",
   "execution_count": 38,
   "id": "4e4c9535",
   "metadata": {},
   "outputs": [
    {
     "data": {
      "text/plain": [
       "<AxesSubplot:xlabel='Engagement avg', ylabel='Category'>"
      ]
     },
     "execution_count": 38,
     "metadata": {},
     "output_type": "execute_result"
    },
    {
     "data": {
      "image/png": "[encoded data removed]",
      "text/plain": [
       "<Figure size 1440x1800 with 2 Axes>"
      ]
     },
     "metadata": {},
     "output_type": "display_data"
    }
   ],
   "source": [
    "plt.figure(figsize = (20,25))\n",
    "ax = plt.subplot(1,2,1)\n",
    "sns.barplot(x = 'Authentic engagement', y = 'Category', data = df_v4, palette = 'Blues_r')\n",
    "plt.subplot(1,2,2)\n",
    "sns.barplot(x = 'Engagement avg', y = 'Category', data = df_v4)"
   ]
  },
  {
   "cell_type": "markdown",
   "id": "4ccaa105",
   "metadata": {},
   "source": [
    "### Próxima tarefa: Coluna porcentagem"
   ]
  },
  {
   "cell_type": "code",
   "execution_count": null,
   "id": "e06c5074",
   "metadata": {},
   "outputs": [],
   "source": []
  }
 ],
 "metadata": {
  "kernelspec": {
   "display_name": "Python 3 (ipykernel)",
   "language": "python",
   "name": "python3"
  },
  "language_info": {
   "codemirror_mode": {
    "name": "ipython",
    "version": 3
   },
   "file_extension": ".py",
   "mimetype": "text/x-python",
   "name": "python",
   "nbconvert_exporter": "python",
   "pygments_lexer": "ipython3",
   "version": "3.9.7"
  }
 },
 "nbformat": 4,
 "nbformat_minor": 5
}
